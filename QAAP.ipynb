{
 "cells": [
  {
   "cell_type": "markdown",
   "metadata": {},
   "source": [
    "# Deal Island Notebook\n",
    "\n",
    "<img style=\"float:right;\" src=\"https://ira.gmu.edu/wp-content/themes/ira/library/images/MasonM.png\" width=150px>\n"
   ]
  },
  {
   "cell_type": "code",
   "execution_count": 8,
   "metadata": {
    "collapsed": false
   },
   "outputs": [],
   "source": [
    "import numpy as np\n",
    "import pandas as pd\n",
    "import matplotlib.pyplot as plt\n",
    "import os\n",
    "from datetime import datetime"
   ]
  },
  {
   "cell_type": "markdown",
   "metadata": {},
   "source": [
    "# QAAP - Project TNC - Deal Island, Maryland"
   ]
  },
  {
   "cell_type": "markdown",
   "metadata": {},
   "source": [
    "## 1.1 Project Description"
   ]
  },
  {
   "cell_type": "markdown",
   "metadata": {},
   "source": [
    "With more than 7,000 miles of tidal shoreline and sea levels that are expected to increase nearly 4’ by 2100, Maryland is one of the most vulnerable states to the effects of climate change. Few communities are fully prepared for the changes to come, yet coastal wetlands are known for their importance for biodiversity and as natural defenses against flooding,  storm surge, and wave attenuation. The marsh and wetland habitats along the Chesapeake Bay coast of Deal Island, Maryland has been a site of interest to help discover the value of these nature-based coastal defenses and to quantify risk reduction. Deal Island is an estuarine intertidal region within the Chesapeake Bay watershed that has been investigated as a platform to demonstrate to local decision makers the importance of adopting nature-based solutions as part of a community resilience strategy against sea level rise and storm surge."
   ]
  },
  {
   "cell_type": "markdown",
   "metadata": {},
   "source": [
    "## 1.2 Deal Island Field Site Description"
   ]
  },
  {
   "cell_type": "markdown",
   "metadata": {},
   "source": [
    "The field site along the Deal Island coastline is located approximately 60 miles southeast of the Chesapeake Bay Bridge (*Figure 1.1*). Two chross-shore transects along the site were examined to aquire field-measured monitoring and geospatial data (*Figure 1.2*).\n",
    "\n",
    "The existing site conditions for Transect 1 (*Figure 1.3*) comprises of marshlands with **Plant Species Name Here** as the primary vegetation plant species abundant in this area. The marshlands contains malnourished **Plant Species Name Here** close to the shoreline and robust **Plant Species Name Here** closer inland of the coast. The soil type present in this transcet is **Soil Type Here**.\n",
    "\n",
    "The existing site conditions for Transect 2 (*Figure 1.4*) also comprises of marshlands with **Plant Species Name Here** as the primary species abundant in this area. The plant species **Plant Species Name Here** is also present throughout areas of this study transcet. The marshlands contains robust **Plant Species Name Here** throughout the local region of the transect. The soil type present in this transcet is **Soil Type Here** and appears to be in healthier conditions than the soil present in Transect 1."
   ]
  },
  {
   "cell_type": "markdown",
   "metadata": {},
   "source": [
    "<img style=\"float:right;\" src=\"https://github.com/bpozo27/Deal_Island/blob/master/Context_Overview_Dealland.PNG?raw=true\" width=450px>"
   ]
  },
  {
   "cell_type": "markdown",
   "metadata": {},
   "source": [
    "#### *Figure 1.1 Deal Island, Maryland context view*"
   ]
  },
  {
   "cell_type": "markdown",
   "metadata": {},
   "source": [
    "<img style=\"float:right;\" src=\"https://github.com/bpozo27/Deal_Island/blob/master/DeIsland_Site.PNG?raw=true\" width=450px>"
   ]
  },
  {
   "cell_type": "markdown",
   "metadata": {},
   "source": [
    "#### *Figure 1.2 Field site and transcets along the Deal Island coastline*"
   ]
  },
  {
   "cell_type": "markdown",
   "metadata": {},
   "source": [
    "<img style=\"float:right;\" src=\"https://github.com/bpozo27/Deal_Island/blob/master/Transect1_Conditions.jpg?raw=true\" width=450px>"
   ]
  },
  {
   "cell_type": "markdown",
   "metadata": {},
   "source": [
    "#### *Figure 1.3 Field sie conditions for Transect 1*"
   ]
  },
  {
   "cell_type": "markdown",
   "metadata": {},
   "source": [
    "<img style=\"float:right;\" src=\"https://github.com/bpozo27/Deal_Island/blob/master/Transect2_Conditions.PNG?raw=true\" width=450px>"
   ]
  },
  {
   "cell_type": "markdown",
   "metadata": {},
   "source": [
    "#### *Figure 1.4 Field sie conditions for Transect 2*"
   ]
  },
  {
   "cell_type": "markdown",
   "metadata": {},
   "source": [
    "## 2.1 Field Measurements, Objectives, and Approach"
   ]
  },
  {
   "cell_type": "markdown",
   "metadata": {},
   "source": [
    "## *2.1.1 Water Levels*"
   ]
  },
  {
   "cell_type": "markdown",
   "metadata": {},
   "source": [
    "### *a. Equipment and Methods*"
   ]
  },
  {
   "cell_type": "markdown",
   "metadata": {},
   "source": [
    "Water level measurements were conducted using the Hobo Onset U20L-01 and Hobo Onset U20-001-01 pressure sensors. Between 3 to 4 stations were installed along the two crossshore transects on the study site as shown in *Figure 2.1.1a*. Locations of the hobo stations along the transcets are shown in *Figure 2.1.1b* (NEED TO PUT IN FIGURE). One sensor was deployed per station on each transect. The sensors acquired 1 measurement every 6 minutes and started at an o'clock hour to temporally correspond with the National Oceanic and Atmospheric Administration (NOAA) water level measurements. One additional sensor was deployed in a nonsubmersible area and acquired measurements at the same rate and time as the other depolyed sensors. All sensors were synchronized on the same computer, retrieved to download obtained data, and replaced by another Hobo sensor after 90 days of initial deployment. The operation will be executed every three months maximum. Table 2.1.1 presents the current field-measured water level data obtained from the Hobos."
   ]
  },
  {
   "cell_type": "markdown",
   "metadata": {},
   "source": [
    "<img style=\"float:right;\" src=\"https://github.com/bpozo27/Deal_Island/blob/master/Hobo_Station.JPG?raw=true\" width=450px>"
   ]
  },
  {
   "cell_type": "markdown",
   "metadata": {},
   "source": [
    "#### *Figure 2.1.1a Hobo pressure sensors fixed on a fence post*"
   ]
  },
  {
   "cell_type": "markdown",
   "metadata": {},
   "source": [
    "<img style=\"float:right;\" src=\"https://github.com/bpozo27/Deal_Island/blob/master/Hobo_Locations.JPG?raw=true\" width=1000px>"
   ]
  },
  {
   "cell_type": "markdown",
   "metadata": {},
   "source": [
    "#### *Figure 2.1.1b Hobo pressure sensors deployment locations*"
   ]
  },
  {
   "cell_type": "markdown",
   "metadata": {},
   "source": [
    "### *b. Measured Data*"
   ]
  },
  {
   "cell_type": "code",
   "execution_count": null,
   "metadata": {},
   "outputs": [],
   "source": [
    "rootWL1 = r'DATA to WL1'\n",
    "fileWL1 = 'name of Water level Transcet1 data.csv'\n",
    "noaa = os.path.join(rootWL1,fileWL1)\n",
    "WL1 = pd.read_csv(noaa)\n",
    "WL1"
   ]
  },
  {
   "cell_type": "markdown",
   "metadata": {},
   "source": [
    "#### *Table 2.1.1a Water levels from Transcet 1*"
   ]
  },
  {
   "cell_type": "code",
   "execution_count": null,
   "metadata": {},
   "outputs": [],
   "source": [
    "rootWL2 = r'DATA to WL2'\n",
    "fileWL2 = 'name of Water level Transcet2 data.csv'\n",
    "noaa = os.path.join(rootWL2,fileWL2)\n",
    "WL2 = pd.read_csv(noaa)\n",
    "WL2"
   ]
  },
  {
   "cell_type": "markdown",
   "metadata": {},
   "source": [
    "#### *Table 2.1.1b Water levels from Transcet 2*"
   ]
  },
  {
   "cell_type": "markdown",
   "metadata": {},
   "source": [
    "## *2.1.2 Waves*"
   ]
  },
  {
   "cell_type": "markdown",
   "metadata": {},
   "source": [
    "### *a. Equipment and Methods*"
   ]
  },
  {
   "cell_type": "markdown",
   "metadata": {},
   "source": [
    "Wave measurements were conducted using Trublue high frequency pressure sensors. One sensor was deployed per station on each transect as shown in *Figure 2.1.2a* (NEED TO PUT IN FIGURE). Locations of the trublue stations along the transcets are shown in *Figure 2.1.2b* (NEED TO PUT IN FIGURE). The sensors acquired 1 measurement every quarter second and started at an o'clock hour. One additional sensor was deployed in conjunction with an Acoustic Doppler Current Profiler (ADCP1?) stationed in Transect 1. All sensors were synchronized on the same computer, retrieved to download obtained data, and replaced by another Hobo sensor after 30 days of each deployment. The operation will be executed every month maximum. Table 2.1.2 presents the current field-measured wave data obtained from the Trublues."
   ]
  },
  {
   "cell_type": "markdown",
   "metadata": {},
   "source": [
    "<img style=\"float:right;\" src=\"https://github.com/bpozo27/Deal_Island/blob/master/Trublue_Station.PNG?raw=true\" width=1000px>"
   ]
  },
  {
   "cell_type": "markdown",
   "metadata": {},
   "source": [
    "#### *Figure 2.1.2a Trublue high frequency pressure sensors fixed on a fence post*"
   ]
  },
  {
   "cell_type": "markdown",
   "metadata": {},
   "source": [
    "<img style=\"float:right;\" src=\"https://github.com/bpozo27/Deal_Island/blob/master/Trublue_Locations.PNG?raw=true\" width=1000px>"
   ]
  },
  {
   "cell_type": "markdown",
   "metadata": {},
   "source": [
    "#### *Figure 2.1.2b Trublue high frequency pressure sensors deployment locations*"
   ]
  },
  {
   "cell_type": "markdown",
   "metadata": {},
   "source": [
    "### *b. Measured Data*"
   ]
  },
  {
   "cell_type": "code",
   "execution_count": null,
   "metadata": {},
   "outputs": [],
   "source": [
    "rootWaves1 = r'DATA to Waves1'\n",
    "fileWaves1 = 'name of Waves1 Data.csv'\n",
    "noaa = os.path.join(rootWaves1,fileWaves1)\n",
    "Waves1 = pd.read_csv(noaa)\n",
    "Waves1"
   ]
  },
  {
   "cell_type": "markdown",
   "metadata": {},
   "source": [
    "#### *Table 2.1.2a Waves from Transcet 1*"
   ]
  },
  {
   "cell_type": "code",
   "execution_count": null,
   "metadata": {},
   "outputs": [],
   "source": [
    "rootWaves2 = r'DATA to Waves2'\n",
    "fileWaves2 = 'name of Waves2 Data.csv'\n",
    "noaa = os.path.join(rootWaves2,fileWaves2)\n",
    "Waves2 = pd.read_csv(noaa)\n",
    "Waves2"
   ]
  },
  {
   "cell_type": "markdown",
   "metadata": {},
   "source": [
    "#### *Table 2.1.2b Waves from Transcet 2*"
   ]
  },
  {
   "cell_type": "markdown",
   "metadata": {},
   "source": [
    "## *2.1.3 Currents*"
   ]
  },
  {
   "cell_type": "markdown",
   "metadata": {},
   "source": [
    "### *a. Equipment and Methods*"
   ]
  },
  {
   "cell_type": "markdown",
   "metadata": {},
   "source": [
    "The direction and velocity current measurements will be measured with Nortek Aquadopp 2.0 Mhz (Acoustic Doppler Current Profiler, ADCP) with the station set up shown in *Figure 2.1.3a*. Two Aquadopps (ADCP1 and ADCP2) are currently stationed along Transcet 1 and their locations are shown in *Figure 2.1.3b* (NEED TO PUT IN FIGURE). The Aquadopps will be synchronized with the same computer as the pressure sensors. The Aquadopps will be bottom mounted, and configured to monitor current velocity and current direction on 0.1 meter cells along each profile. The vertical range of measurements is 0.1 m from the transducer head (due to the blanking distance) to the top of the water column. The current profiles will be averaged every minute and will be recorded every 10 minutes. Table 2.1.3 presents the direction and velocity current measurements obtained from the two stationed Aquadopps."
   ]
  },
  {
   "cell_type": "markdown",
   "metadata": {},
   "source": [
    "<img style=\"float:right;\" src=\"https://github.com/bpozo27/Deal_Island/blob/master/ADCP_Station.JPG?raw=true\" width=450px>"
   ]
  },
  {
   "cell_type": "markdown",
   "metadata": {},
   "source": [
    "#### *Figure 2.1.3a Nortek Aquadopps deployed in the marsh*"
   ]
  },
  {
   "cell_type": "markdown",
   "metadata": {},
   "source": [
    "<img style=\"float:right;\" src=\"https://github.com/bpozo27/Deal_Island/blob/master/ADCP_Transect1_Locations.PNG?raw=true\" width=1000px>"
   ]
  },
  {
   "cell_type": "markdown",
   "metadata": {},
   "source": [
    "#### *Figure 2.1.3b Aquadopps deployment locations*"
   ]
  },
  {
   "cell_type": "markdown",
   "metadata": {},
   "source": [
    "### *b. Measured Data*"
   ]
  },
  {
   "cell_type": "code",
   "execution_count": null,
   "metadata": {},
   "outputs": [],
   "source": [
    "rootCurrents1 = r'DATA to Currents1'\n",
    "fileCurrents1 = 'name of Currents1 Data.csv'\n",
    "noaa = os.path.join(rootCurrents1,fileCurrents1)\n",
    "Currents1 = pd.read_csv(noaa)\n",
    "Currents1"
   ]
  },
  {
   "cell_type": "markdown",
   "metadata": {},
   "source": [
    "#### *Table 2.1.3a Current data from ADCP1*"
   ]
  },
  {
   "cell_type": "code",
   "execution_count": null,
   "metadata": {},
   "outputs": [],
   "source": [
    "rootCurrents2 = r'DATA to Currents2'\n",
    "fileCurrents2 = 'name of Currents2 Data.csv'\n",
    "noaa = os.path.join(rootCurrents2,fileCurrents2)\n",
    "Currents2 = pd.read_csv(noaa)\n",
    "Currents2"
   ]
  },
  {
   "cell_type": "markdown",
   "metadata": {},
   "source": [
    "#### *Table 2.1.3b Current data from ADCP2*"
   ]
  },
  {
   "cell_type": "markdown",
   "metadata": {},
   "source": [
    "## *2.1.4 Vegetation*"
   ]
  },
  {
   "cell_type": "markdown",
   "metadata": {},
   "source": [
    "### *a. Equipment and Methods*"
   ]
  },
  {
   "cell_type": "markdown",
   "metadata": {},
   "source": [
    "Non-destructive biometric measurements of the vegetation present on the Deal Island project site were obtained for the deployment stations shown in *Figure 2.1.4a*. Measurements were obtained twice during the year; once in May 11, 2018 and once on September 12, 2018. Stem density, stem diameter, and plant height were measured around each water level measurement station in 3 to 5 quadrats of size 25 cm2 (5 cm x 5 cm grid). Stem density is the number of plant stems present in a single quadrat measurement. The plant diameter in each quadrat was measured using a **Plant Diameter measuring instrument** (NEED TO FIGURE OUT NAME). Each quadrat is georeferenced by DGPS (Refer to section 2.1.5 for the data-processing methodology used for obtaining the horizontal positioning of all field measurement staions). A schematic of the vegetation field measurements are shown in *Figure 2.1.4b* (NEED TO PUT IN FIGURE).\n",
    "The primary plant species present in the water level measurement stations was the **Plant Species Name Here**. (There was another plant species present mostly in Transect 2).\n",
    "\n",
    "Results of the obtained vegetation data are shown in Table 2.1.4. "
   ]
  },
  {
   "cell_type": "markdown",
   "metadata": {},
   "source": [
    "<img style=\"float:right;\" src=\"https://github.com/bpozo27/Deal_Island/blob/master/Vegetation_Locations.PNG?raw=true\" width=450px>"
   ]
  },
  {
   "cell_type": "markdown",
   "metadata": {},
   "source": [
    "#### *Figure 2.1.4a Vegetation station locations*"
   ]
  },
  {
   "cell_type": "markdown",
   "metadata": {},
   "source": [
    "<img style=\"float:right;\" src=\"https://github.com/bpozo27/Deal_Island/blob/master/Vegetation_Station.PNG?raw=true\" width=450px>"
   ]
  },
  {
   "cell_type": "markdown",
   "metadata": {},
   "source": [
    "#### *Figure 2.1.4b Vegetation field measurement method*"
   ]
  },
  {
   "cell_type": "markdown",
   "metadata": {},
   "source": [
    "### *b. Measured Data*"
   ]
  },
  {
   "cell_type": "code",
   "execution_count": null,
   "metadata": {},
   "outputs": [],
   "source": [
    "rootVege1 = r'DATA to Vege1'\n",
    "fileVege1 = 'name of Vege1 data.csv'\n",
    "noaa = os.path.join(rootVege1,fileVege1)\n",
    "Vege1 = pd.read_csv(noaa)\n",
    "Vege1"
   ]
  },
  {
   "cell_type": "markdown",
   "metadata": {},
   "source": [
    "#### *Table 2.1.4a Vegetation data from Transect1*"
   ]
  },
  {
   "cell_type": "code",
   "execution_count": null,
   "metadata": {},
   "outputs": [],
   "source": [
    "rootVege2 = r'DATA to Vege2'\n",
    "fileVege2 = 'name of Vege2 data.csv'\n",
    "noaa = os.path.join(rootVege2,fileVege2)\n",
    "Vege2 = pd.read_csv(noaa)\n",
    "Vege2"
   ]
  },
  {
   "cell_type": "markdown",
   "metadata": {},
   "source": [
    "#### *Table 2.1.4b Vegetation data from Transect2*"
   ]
  },
  {
   "cell_type": "markdown",
   "metadata": {},
   "source": [
    "## *2.1.5 Topography*"
   ]
  },
  {
   "cell_type": "markdown",
   "metadata": {},
   "source": [
    "### *a. Equipment and Methods*"
   ]
  },
  {
   "cell_type": "markdown",
   "metadata": {},
   "source": [
    "The vertical and horizontal positioning of all the field measurement staions were obtained using a Trimble RTK R4 Differential GPS (DGPS) of centimetric precision (Figure 2.1.5). All the spatial data obtained are georeferenced to NAVD88 and NAD83. Vertical positioning data for the sensors in each deployment station were processed as necessary in order to compare applicable data obtained throughout the Deal Island project site. The DGPS data is presented in Table 2.1.5."
   ]
  },
  {
   "cell_type": "markdown",
   "metadata": {},
   "source": [
    "<img style=\"float:right;\" src=\"https://github.com/bpozo27/Deal_Island/blob/master/GPS_Station.jpg?raw=true\" width=450px>"
   ]
  },
  {
   "cell_type": "markdown",
   "metadata": {},
   "source": [
    "#### *Figure 2.1.5 DGPS Trimble RTK 4-3 station*"
   ]
  },
  {
   "cell_type": "code",
   "execution_count": null,
   "metadata": {},
   "outputs": [],
   "source": [
    "rootGPS = r'DATA for GPS'\n",
    "fileGPS = 'name of GPS data.csv'\n",
    "noaa = os.path.join(GPS,fileGPS)\n",
    "GPS = pd.read_csv(noaa)\n",
    "GPS"
   ]
  },
  {
   "cell_type": "markdown",
   "metadata": {},
   "source": [
    "#### *Table 2.1.5 DGPS Deal Island Data*"
   ]
  },
  {
   "cell_type": "code",
   "execution_count": null,
   "metadata": {},
   "outputs": [],
   "source": []
  },
  {
   "cell_type": "code",
   "execution_count": null,
   "metadata": {},
   "outputs": [],
   "source": []
  },
  {
   "cell_type": "code",
   "execution_count": null,
   "metadata": {},
   "outputs": [],
   "source": []
  },
  {
   "cell_type": "code",
   "execution_count": null,
   "metadata": {},
   "outputs": [],
   "source": []
  },
  {
   "cell_type": "markdown",
   "metadata": {},
   "source": [
    "## *2.1.6 Bathymetry?*"
   ]
  },
  {
   "cell_type": "markdown",
   "metadata": {},
   "source": [
    "### *a. Equipment and Methods*"
   ]
  },
  {
   "cell_type": "markdown",
   "metadata": {},
   "source": [
    "Sonar Bathymetry Sensor (TBD)"
   ]
  },
  {
   "cell_type": "code",
   "execution_count": null,
   "metadata": {},
   "outputs": [],
   "source": []
  },
  {
   "cell_type": "code",
   "execution_count": null,
   "metadata": {},
   "outputs": [],
   "source": []
  },
  {
   "cell_type": "code",
   "execution_count": null,
   "metadata": {},
   "outputs": [],
   "source": []
  },
  {
   "cell_type": "markdown",
   "metadata": {},
   "source": [
    "# XBeach?"
   ]
  },
  {
   "cell_type": "code",
   "execution_count": null,
   "metadata": {},
   "outputs": [],
   "source": []
  },
  {
   "cell_type": "code",
   "execution_count": null,
   "metadata": {},
   "outputs": [],
   "source": []
  },
  {
   "cell_type": "code",
   "execution_count": null,
   "metadata": {},
   "outputs": [],
   "source": []
  },
  {
   "cell_type": "markdown",
   "metadata": {},
   "source": [
    "## XX.1 Supporting Materials"
   ]
  },
  {
   "cell_type": "markdown",
   "metadata": {},
   "source": [
    "For more insite to the Deal Island TNC project, a YouTube video has been prepared by The Nature Conservancy (TNC) detailing the objectives, purpose, and importance of implementing nature-based coastal defense mechanisms for the state of Maryland. Clicking the below image will redirect to **\"Maryland's Green Suit of Armor\"** TNC video."
   ]
  },
  {
   "cell_type": "markdown",
   "metadata": {},
   "source": [
    "[![IMAGE ALT TEXT HERE](http://img.youtube.com/vi/8UhOB01LwoQ/0.jpg)](http://www.youtube.com/watch?v=8UhOB01LwoQ)"
   ]
  },
  {
   "cell_type": "markdown",
   "metadata": {},
   "source": [
    "Futhermore, TNC ellaborates on a broader scope of coastal resilience for the state of Maryland in their website article:\n",
    "\n",
    "https://www.nature.org/en-us/about-us/where-we-work/united-states/maryland-dc/stories-in-maryland-dc/mddc-how-we-work-resilient-coasts/"
   ]
  },
  {
   "cell_type": "markdown",
   "metadata": {},
   "source": [
    "<iframe width=\"420\" height=\"315\"\n",
    "src=\"https://www.youtube.com/embed/tgbNymZ7vqY?autoplay=1\">\n",
    "</iframe> "
   ]
  },
  {
   "cell_type": "code",
   "execution_count": null,
   "metadata": {},
   "outputs": [],
   "source": []
  },
  {
   "cell_type": "markdown",
   "metadata": {},
   "source": [
    "## XX.1 Acknowledgements"
   ]
  },
  {
   "cell_type": "code",
   "execution_count": null,
   "metadata": {},
   "outputs": [],
   "source": []
  },
  {
   "cell_type": "code",
   "execution_count": null,
   "metadata": {},
   "outputs": [],
   "source": []
  },
  {
   "cell_type": "code",
   "execution_count": null,
   "metadata": {},
   "outputs": [],
   "source": []
  }
 ],
 "metadata": {
  "kernelspec": {
   "display_name": "Python [default]",
   "language": "python",
   "name": "python3"
  },
  "language_info": {
   "codemirror_mode": {
    "name": "ipython",
    "version": 3
   },
   "file_extension": ".py",
   "mimetype": "text/x-python",
   "name": "python",
   "nbconvert_exporter": "python",
   "pygments_lexer": "ipython3",
   "version": "3.6.5"
  }
 },
 "nbformat": 4,
 "nbformat_minor": 2
}
